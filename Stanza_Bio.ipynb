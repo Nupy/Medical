{
  "nbformat": 4,
  "nbformat_minor": 0,
  "metadata": {
    "colab": {
      "name": "Stanza_Bio.ipynb",
      "provenance": [],
      "collapsed_sections": [],
      "authorship_tag": "ABX9TyMoyxd0rV4W5oUX61VSGVDb",
      "include_colab_link": true
    },
    "kernelspec": {
      "name": "python3",
      "display_name": "Python 3"
    }
  },
  "cells": [
    {
      "cell_type": "markdown",
      "metadata": {
        "id": "view-in-github",
        "colab_type": "text"
      },
      "source": [
        "<a href=\"https://colab.research.google.com/github/Nupy/Medical/blob/master/Stanza_Bio.ipynb\" target=\"_parent\"><img src=\"https://colab.research.google.com/assets/colab-badge.svg\" alt=\"Open In Colab\"/></a>"
      ]
    },
    {
      "cell_type": "code",
      "metadata": {
        "id": "rlYLUW-FnUEn",
        "colab_type": "code",
        "colab": {
          "base_uri": "https://localhost:8080/",
          "height": 329
        },
        "outputId": "5e991b09-e8fe-4a8c-852b-57bc698b9877"
      },
      "source": [
        "!pip install stanza"
      ],
      "execution_count": 2,
      "outputs": [
        {
          "output_type": "stream",
          "text": [
            "Collecting stanza\n",
            "\u001b[?25l  Downloading https://files.pythonhosted.org/packages/e7/8b/3a9e7a8d8cb14ad6afffc3983b7a7322a3a24d94ebc978a70746fcffc085/stanza-1.1.1-py3-none-any.whl (227kB)\n",
            "\r\u001b[K     |█▍                              | 10kB 17.9MB/s eta 0:00:01\r\u001b[K     |██▉                             | 20kB 5.5MB/s eta 0:00:01\r\u001b[K     |████▎                           | 30kB 6.7MB/s eta 0:00:01\r\u001b[K     |█████▊                          | 40kB 7.5MB/s eta 0:00:01\r\u001b[K     |███████▏                        | 51kB 5.8MB/s eta 0:00:01\r\u001b[K     |████████▋                       | 61kB 6.2MB/s eta 0:00:01\r\u001b[K     |██████████                      | 71kB 6.8MB/s eta 0:00:01\r\u001b[K     |███████████▌                    | 81kB 7.4MB/s eta 0:00:01\r\u001b[K     |█████████████                   | 92kB 7.9MB/s eta 0:00:01\r\u001b[K     |██████████████▍                 | 102kB 8.2MB/s eta 0:00:01\r\u001b[K     |███████████████▉                | 112kB 8.2MB/s eta 0:00:01\r\u001b[K     |█████████████████▎              | 122kB 8.2MB/s eta 0:00:01\r\u001b[K     |██████████████████▊             | 133kB 8.2MB/s eta 0:00:01\r\u001b[K     |████████████████████▏           | 143kB 8.2MB/s eta 0:00:01\r\u001b[K     |█████████████████████▋          | 153kB 8.2MB/s eta 0:00:01\r\u001b[K     |███████████████████████         | 163kB 8.2MB/s eta 0:00:01\r\u001b[K     |████████████████████████▌       | 174kB 8.2MB/s eta 0:00:01\r\u001b[K     |██████████████████████████      | 184kB 8.2MB/s eta 0:00:01\r\u001b[K     |███████████████████████████▍    | 194kB 8.2MB/s eta 0:00:01\r\u001b[K     |████████████████████████████▉   | 204kB 8.2MB/s eta 0:00:01\r\u001b[K     |██████████████████████████████▎ | 215kB 8.2MB/s eta 0:00:01\r\u001b[K     |███████████████████████████████▊| 225kB 8.2MB/s eta 0:00:01\r\u001b[K     |████████████████████████████████| 235kB 8.2MB/s \n",
            "\u001b[?25hRequirement already satisfied: protobuf in /usr/local/lib/python3.6/dist-packages (from stanza) (3.12.4)\n",
            "Requirement already satisfied: numpy in /usr/local/lib/python3.6/dist-packages (from stanza) (1.18.5)\n",
            "Requirement already satisfied: torch>=1.3.0 in /usr/local/lib/python3.6/dist-packages (from stanza) (1.6.0+cu101)\n",
            "Requirement already satisfied: tqdm in /usr/local/lib/python3.6/dist-packages (from stanza) (4.41.1)\n",
            "Requirement already satisfied: requests in /usr/local/lib/python3.6/dist-packages (from stanza) (2.23.0)\n",
            "Requirement already satisfied: six>=1.9 in /usr/local/lib/python3.6/dist-packages (from protobuf->stanza) (1.15.0)\n",
            "Requirement already satisfied: setuptools in /usr/local/lib/python3.6/dist-packages (from protobuf->stanza) (49.2.0)\n",
            "Requirement already satisfied: future in /usr/local/lib/python3.6/dist-packages (from torch>=1.3.0->stanza) (0.16.0)\n",
            "Requirement already satisfied: chardet<4,>=3.0.2 in /usr/local/lib/python3.6/dist-packages (from requests->stanza) (3.0.4)\n",
            "Requirement already satisfied: urllib3!=1.25.0,!=1.25.1,<1.26,>=1.21.1 in /usr/local/lib/python3.6/dist-packages (from requests->stanza) (1.24.3)\n",
            "Requirement already satisfied: idna<3,>=2.5 in /usr/local/lib/python3.6/dist-packages (from requests->stanza) (2.10)\n",
            "Requirement already satisfied: certifi>=2017.4.17 in /usr/local/lib/python3.6/dist-packages (from requests->stanza) (2020.6.20)\n",
            "Installing collected packages: stanza\n",
            "Successfully installed stanza-1.1.1\n"
          ],
          "name": "stdout"
        }
      ]
    },
    {
      "cell_type": "code",
      "metadata": {
        "id": "L374CQZXne9R",
        "colab_type": "code",
        "colab": {}
      },
      "source": [
        "import stanza"
      ],
      "execution_count": 5,
      "outputs": []
    },
    {
      "cell_type": "code",
      "metadata": {
        "id": "WhpBa1lcngHB",
        "colab_type": "code",
        "colab": {
          "base_uri": "https://localhost:8080/",
          "height": 458
        },
        "outputId": "bb9480ef-a453-4736-add8-d8361ac07e3d"
      },
      "source": [
        "# Download Stanza NER on i2b2 Data\n",
        "#stanza.download(\"en\", package=\"mimic\", processors={\"ner\": \"i2b2\"})\n",
        "stanza.download(\"en\", package=\"mimic\", processors={\"ner\": \"Radiology\"})"
      ],
      "execution_count": 27,
      "outputs": [
        {
          "output_type": "stream",
          "text": [
            "Downloading https://raw.githubusercontent.com/stanfordnlp/stanza-resources/master/resources_1.1.0.json: 122kB [00:00, 19.6MB/s]                    \n",
            "2020-08-14 20:46:45 INFO: Downloading these customized packages for language: en (English)...\n",
            "===============================\n",
            "| Processor       | Package   |\n",
            "-------------------------------\n",
            "| tokenize        | mimic     |\n",
            "| pos             | mimic     |\n",
            "| lemma           | mimic     |\n",
            "| depparse        | mimic     |\n",
            "| ner             | radiology |\n",
            "| backward_charlm | mimic     |\n",
            "| pretrain        | mimic     |\n",
            "| forward_charlm  | mimic     |\n",
            "===============================\n",
            "\n",
            "2020-08-14 20:46:45 INFO: File exists: /root/stanza_resources/en/tokenize/mimic.pt.\n",
            "2020-08-14 20:46:45 INFO: File exists: /root/stanza_resources/en/pos/mimic.pt.\n",
            "2020-08-14 20:46:45 INFO: File exists: /root/stanza_resources/en/lemma/mimic.pt.\n",
            "2020-08-14 20:46:45 INFO: File exists: /root/stanza_resources/en/depparse/mimic.pt.\n",
            "Downloading http://nlp.stanford.edu/software/stanza/1.1.0/en/ner/radiology.pt: 100%|██████████| 124M/124M [00:23<00:00, 5.23MB/s]\n",
            "2020-08-14 20:47:11 INFO: File exists: /root/stanza_resources/en/backward_charlm/mimic.pt.\n",
            "2020-08-14 20:47:11 INFO: File exists: /root/stanza_resources/en/pretrain/mimic.pt.\n",
            "2020-08-14 20:47:11 INFO: File exists: /root/stanza_resources/en/forward_charlm/mimic.pt.\n",
            "2020-08-14 20:47:11 INFO: Finished downloading models and saved to /root/stanza_resources.\n"
          ],
          "name": "stderr"
        }
      ]
    },
    {
      "cell_type": "code",
      "metadata": {
        "id": "3VShfD5NnlsD",
        "colab_type": "code",
        "colab": {
          "base_uri": "https://localhost:8080/",
          "height": 348
        },
        "outputId": "cfbea0e2-f234-415d-e443-b367624a2a50"
      },
      "source": [
        "# Initialize Pipeline\n",
        "#nlp = stanza.Pipeline(\"en\", package=\"mimic\",processors={\"ner\": \"i2b2\"})\n",
        "nlp = stanza.Pipeline(\"en\", package=\"mimic\",processors={\"ner\": \"Radiology\"})"
      ],
      "execution_count": 28,
      "outputs": [
        {
          "output_type": "stream",
          "text": [
            "2020-08-14 20:47:31 INFO: Loading these models for language: en (English):\n",
            "=========================\n",
            "| Processor | Package   |\n",
            "-------------------------\n",
            "| tokenize  | mimic     |\n",
            "| pos       | mimic     |\n",
            "| lemma     | mimic     |\n",
            "| depparse  | mimic     |\n",
            "| ner       | radiology |\n",
            "=========================\n",
            "\n",
            "2020-08-14 20:47:31 INFO: Use device: cpu\n",
            "2020-08-14 20:47:31 INFO: Loading: tokenize\n",
            "2020-08-14 20:47:31 INFO: Loading: pos\n",
            "2020-08-14 20:47:32 INFO: Loading: lemma\n",
            "2020-08-14 20:47:32 INFO: Loading: depparse\n",
            "2020-08-14 20:47:33 INFO: Loading: ner\n",
            "2020-08-14 20:47:33 INFO: Done loading processors!\n"
          ],
          "name": "stderr"
        }
      ]
    },
    {
      "cell_type": "code",
      "metadata": {
        "id": "Pi4FWwK4of_B",
        "colab_type": "code",
        "colab": {
          "base_uri": "https://localhost:8080/",
          "height": 164
        },
        "outputId": "ec03967e-5f52-45b5-c0c1-8910bd5fbd4e"
      },
      "source": [
        "# Annotate Clinical Text\n",
        "doc = nlp(\"Mr Doe denies has a surgery in right leg knee. He also complains of frequent acute chest pain\")\n",
        "\n",
        "# Print All Entities\n",
        "for ent in doc.entities:\n",
        "  print(f\"{ent.text}\\t{ent.type}\")"
      ],
      "execution_count": 30,
      "outputs": [
        {
          "output_type": "stream",
          "text": [
            "surgery\tOBSERVATION\n",
            "right\tANATOMY_MODIFIER\n",
            "leg\tANATOMY\n",
            "knee\tANATOMY\n",
            "frequent\tOBSERVATION_MODIFIER\n",
            "acute\tOBSERVATION_MODIFIER\n",
            "chest\tANATOMY\n",
            "pain\tOBSERVATION\n"
          ],
          "name": "stdout"
        }
      ]
    }
  ]
}